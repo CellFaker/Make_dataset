{
 "cells": [
  {
   "cell_type": "code",
   "execution_count": 5,
   "id": "b4339007",
   "metadata": {},
   "outputs": [],
   "source": [
    "from PIL import Image\n",
    "import os\n",
    "import cv2\n",
    "import numpy as np\n",
    "\n",
    "def tif_to_png(img_path):\n",
    "    img = Image.open(img_path)\n",
    "    img.save(img_path.replace(\".tif\",\".png\"), quality=95)"
   ]
  },
  {
   "cell_type": "code",
   "execution_count": 6,
   "id": "1a6aa116",
   "metadata": {},
   "outputs": [],
   "source": [
    "#main\n",
    "from glob import glob\n",
    "files = glob(\"./*.tif\")\n",
    "for file in files:\n",
    "    tif_to_png(file)"
   ]
  },
  {
   "cell_type": "code",
   "execution_count": null,
   "id": "6ce14d4d",
   "metadata": {},
   "outputs": [],
   "source": []
  }
 ],
 "metadata": {
  "kernelspec": {
   "display_name": "Python 3 (ipykernel)",
   "language": "python",
   "name": "python3"
  },
  "language_info": {
   "codemirror_mode": {
    "name": "ipython",
    "version": 3
   },
   "file_extension": ".py",
   "mimetype": "text/x-python",
   "name": "python",
   "nbconvert_exporter": "python",
   "pygments_lexer": "ipython3",
   "version": "3.9.7"
  }
 },
 "nbformat": 4,
 "nbformat_minor": 5
}
