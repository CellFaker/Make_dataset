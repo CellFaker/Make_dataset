{
 "cells": [
  {
   "cell_type": "code",
   "execution_count": 18,
   "id": "c53865f8",
   "metadata": {},
   "outputs": [],
   "source": [
    "from PIL import Image\n",
    "import os\n",
    "import cv2\n",
    "import numpy as np\n",
    "\n",
    "def tif_to_png(img_path):\n",
    "    img = Image.open(img_path)\n",
    "    img.save(img_path + ".png"), quality=95)\n",
    "    \n",
    "def cut_png(img_path):\n",
    "    n = 6  # 画像分割数\n",
    "    y0 = 512\n",
    "    x0 = 512 \n",
    "    \n",
    "    image = cv2.imread(img_path) \n",
    "    h, w = image.shape[:2]\n",
    "    \n",
    "    # 分割した画像を内包表記でリスト化\n",
    "    c = [image[x0*x:x0*(x+1), y0*y:y0*(y+1)] for x in range(n) for y in range(n)]\n",
    "\n",
    "    # c のリストから1つづつ取り出して\n",
    "    # ファイル番号（0.jpg、1.jpg、・・）を付けて、sepaフォルダに保存\n",
    "    for i, img in enumerate(c):\n",
    "        print(img.shape)\n",
    "        print(os.path.join('./test_photo/sepa', '{}.png'.format(i)))\n",
    "        cv2.imwrite(os.path.join('./tmp/', '{}.png'.format(i)), img)\n",
    "\n",
    "#明るさ変調\n",
    "def adjust(img_path, alpha=1.0, beta=0.0):\n",
    "    # 積和演算を行う。\n",
    "    img = cv2.imread(img_path) \n",
    "    dst = alpha * img + beta\n",
    "    # [0, 255] でクリップし、uint8 型にする。\n",
    "    return np.clip(dst, 0, 255).astype(np.uint8)\n",
    "\n",
    "def imshow(img):\n",
    "    \"\"\"ndarray 配列をインラインで Notebook 上に表示する。\n",
    "    \"\"\" \n",
    "    ret, encoded = cv2.imencode(\".jpg\", img)\n",
    "    display(Image(encoded))"
   ]
  },
  {
   "cell_type": "code",
   "execution_count": 19,
   "id": "ea69aa8a",
   "metadata": {},
   "outputs": [],
   "source": [
    "#main\n",
    "from glob import glob\n",
    "\n",
    "folders = [p for p in glob(\"./*\", recursive=True) if not os.path.isfile(p)]\n",
    "for folder in folders:\n",
    "    files = glob(folder + \"/*.tif\")\n",
    "    for file in files:\n",
    "        tif_to_png(file)\n"
   ]
  },
  {
   "cell_type": "code",
   "execution_count": null,
   "id": "bc7c653d",
   "metadata": {},
   "outputs": [],
   "source": []
  }
 ],
 "metadata": {
  "kernelspec": {
   "display_name": "Python 3 (ipykernel)",
   "language": "python",
   "name": "python3"
  },
  "language_info": {
   "codemirror_mode": {
    "name": "ipython",
    "version": 3
   },
   "file_extension": ".py",
   "mimetype": "text/x-python",
   "name": "python",
   "nbconvert_exporter": "python",
   "pygments_lexer": "ipython3",
   "version": "3.9.7"
  }
 },
 "nbformat": 4,
 "nbformat_minor": 5
}
