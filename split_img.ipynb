{
 "cells": [
  {
   "cell_type": "code",
   "execution_count": 30,
   "id": "8c738abb",
   "metadata": {},
   "outputs": [
    {
     "name": "stdout",
     "output_type": "stream",
     "text": [
      "[ 87 155 255]\n",
      "[  0 255]\n",
      "(766, 1022)\n"
     ]
    },
    {
     "data": {
      "text/plain": [
       "True"
      ]
     },
     "execution_count": 30,
     "metadata": {},
     "output_type": "execute_result"
    }
   ],
   "source": [
    "########png only !!!!!!!!!!\n",
    "###png only !!!!!!!!!!\n",
    "####png only !!!!!!!!!!\n",
    "#####png only !!!!!!!!!!\n",
    "\n",
    "#Define\n",
    "thresh_max = 192\n",
    "thresh_min = 140\n",
    "thresh = 155\n",
    "file_path = \"CTX_day14_mask.png\"\n",
    "\n",
    "import cv2\n",
    "import numpy as np\n",
    "img = cv2.imread(file_path)\n",
    "img = cv2.cvtColor(img, cv2.COLOR_BGR2GRAY)\n",
    "\n",
    "print(np.unique(img)) \n",
    "\n",
    "#img[:,:] = np.where((img[:,:]>=thresh_min)&(img[:,:]<=thresh_max),  0, 255)\n",
    "img[:,:] = np.where((img[:,:]==thresh),  0, 255)\n",
    "print(np.unique(img)) \n",
    "print(img.shape) \n",
    "cv2.imwrite(\"mask/\" + file_path, img)\n",
    "         \n"
   ]
  }
 ],
 "metadata": {
  "kernelspec": {
   "display_name": "Python 3 (ipykernel)",
   "language": "python",
   "name": "python3"
  },
  "language_info": {
   "codemirror_mode": {
    "name": "ipython",
    "version": 3
   },
   "file_extension": ".py",
   "mimetype": "text/x-python",
   "name": "python",
   "nbconvert_exporter": "python",
   "pygments_lexer": "ipython3",
   "version": "3.9.7"
  }
 },
 "nbformat": 4,
 "nbformat_minor": 5
}
