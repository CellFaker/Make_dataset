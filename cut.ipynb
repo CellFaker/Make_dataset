{
 "cells": [
  {
   "cell_type": "code",
   "execution_count": 35,
   "id": "f5c11af6",
   "metadata": {},
   "outputs": [],
   "source": [
    "from PIL import Image\n",
    "import os\n",
    "import cv2\n",
    "import numpy as np\n",
    "\n",
    "def cut_png(img_path):\n",
    "    n = 6  # 画像分割数\n",
    "    y0 = 512\n",
    "    x0 = 512 \n",
    "    \n",
    "    filename = os.path.basename(img_path)\n",
    "    #os.mkdir(filename)\n",
    "    image = cv2.imread(img_path) \n",
    "    h, w = image.shape[:2]\n",
    "    #print(image.shape)\n",
    "    \n",
    "    # 分割した画像を内包表記でリスト化\n",
    "    c = [image[x0*x:x0*(x+1), y0*y:y0*(y+1)] for x in range(n) for y in range(n)]\n",
    "    \n",
    "    # c のリストから1つづつ取り出して保存\n",
    "    for i, img in enumerate(c):\n",
    "        print(img.shape)\n",
    "        #print(os.path.join('./test_photo/sepa', '{}.png'.format(i)))\n",
    "        cv2.imwrite(os.path.join(os.path.dirname(img_path), str(i) + filename), img)"
   ]
  },
  {
   "cell_type": "code",
   "execution_count": 36,
   "id": "2794b5fb",
   "metadata": {},
   "outputs": [
    {
     "name": "stdout",
     "output_type": "stream",
     "text": [
      "(512, 512, 3)\n",
      "(512, 512, 3)\n",
      "(512, 512, 3)\n",
      "(512, 512, 3)\n",
      "(512, 512, 3)\n",
      "(512, 512, 3)\n",
      "(512, 512, 3)\n",
      "(512, 512, 3)\n",
      "(512, 512, 3)\n",
      "(512, 512, 3)\n",
      "(512, 512, 3)\n",
      "(512, 512, 3)\n",
      "(512, 512, 3)\n",
      "(512, 512, 3)\n",
      "(512, 512, 3)\n",
      "(512, 512, 3)\n",
      "(512, 512, 3)\n",
      "(512, 512, 3)\n",
      "(512, 512, 3)\n",
      "(512, 512, 3)\n",
      "(512, 512, 3)\n",
      "(512, 512, 3)\n",
      "(512, 512, 3)\n",
      "(512, 512, 3)\n",
      "(512, 512, 3)\n",
      "(512, 512, 3)\n",
      "(512, 512, 3)\n",
      "(512, 512, 3)\n",
      "(512, 512, 3)\n",
      "(512, 512, 3)\n",
      "(317, 512, 3)\n",
      "(317, 512, 3)\n",
      "(317, 512, 3)\n",
      "(317, 512, 3)\n",
      "(317, 512, 3)\n",
      "(317, 512, 3)\n"
     ]
    }
   ],
   "source": [
    "import glob\n",
    "files = glob.glob(\"./image/*.png\")\n",
    "for file in files:\n",
    "    cut_png(file)"
   ]
  },
  {
   "cell_type": "code",
   "execution_count": null,
   "id": "e55b3539",
   "metadata": {},
   "outputs": [],
   "source": []
  }
 ],
 "metadata": {
  "kernelspec": {
   "display_name": "Python 3 (ipykernel)",
   "language": "python",
   "name": "python3"
  },
  "language_info": {
   "codemirror_mode": {
    "name": "ipython",
    "version": 3
   },
   "file_extension": ".py",
   "mimetype": "text/x-python",
   "name": "python",
   "nbconvert_exporter": "python",
   "pygments_lexer": "ipython3",
   "version": "3.9.7"
  }
 },
 "nbformat": 4,
 "nbformat_minor": 5
}
