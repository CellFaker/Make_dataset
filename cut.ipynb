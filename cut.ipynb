{
 "cells": [
  {
   "cell_type": "code",
   "execution_count": 37,
   "id": "678d880f",
   "metadata": {},
   "outputs": [],
   "source": [
    "from PIL import Image\n",
    "import os\n",
    "import cv2\n",
    "import numpy as np\n",
    "\n",
    "def cut_png(img_path):\n",
    "    #切り出し画像サイズ\n",
    "    y0 = 512\n",
    "    x0 = 512 \n",
    "    \n",
    "    #画像読み出し\n",
    "    filename = os.path.basename(img_path)\n",
    "    image = cv2.imread(img_path) \n",
    "    \n",
    "    #画像分割数を計算\n",
    "    h, w = image.shape[:2]\n",
    "    yn = round(w/x0)\n",
    "    xn = round(h/y0)\n",
    "    \n",
    "    # 分割した画像を内包表記でリスト化\n",
    "    c = [image[x0*x:x0*(x+1), y0*y:y0*(y+1)] for x in range(xn) for y in range(yn)]\n",
    "    \n",
    "    # c のリストから1つづつ取り出して保存\n",
    "    for i, img in enumerate(c):\n",
    "        cut_h, cut_w = img.shape[:2]\n",
    "        if (cut_h==y0)and(cut_w==x0):\n",
    "            cv2.imwrite(os.path.join(os.path.dirname(img_path), str(i) + filename), img)"
   ]
  },
  {
   "cell_type": "code",
   "execution_count": 40,
   "id": "fa451759",
   "metadata": {},
   "outputs": [],
   "source": [
    "from glob import glob\n",
    "files = glob(\"3day/*.png\")\n",
    "for file in files:\n",
    "    cut_png(file)"
   ]
  },
  {
   "cell_type": "code",
   "execution_count": null,
   "id": "4cf5748e",
   "metadata": {},
   "outputs": [],
   "source": []
  }
 ],
 "metadata": {
  "kernelspec": {
   "display_name": "Python 3 (ipykernel)",
   "language": "python",
   "name": "python3"
  },
  "language_info": {
   "codemirror_mode": {
    "name": "ipython",
    "version": 3
   },
   "file_extension": ".py",
   "mimetype": "text/x-python",
   "name": "python",
   "nbconvert_exporter": "python",
   "pygments_lexer": "ipython3",
   "version": "3.9.7"
  }
 },
 "nbformat": 4,
 "nbformat_minor": 5
}
