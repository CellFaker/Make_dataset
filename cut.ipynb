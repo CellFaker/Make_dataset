{
 "cells": [
  {
   "cell_type": "code",
   "execution_count": 1,
   "id": "bf3ec6b2",
   "metadata": {},
   "outputs": [],
   "source": [
    "from PIL import Image\n",
    "import os\n",
    "import cv2\n",
    "import numpy as np\n",
    "\n",
    "def cut_png(img_path):\n",
    "    n = 6  # 画像分割数\n",
    "    y0 = 512\n",
    "    x0 = 512 \n",
    "    \n",
    "    filename = os.path.basename(img_path)\n",
    "    os.mkdir(filename)\n",
    "    image = cv2.imread(img_path) \n",
    "    h, w = image.shape[:2]\n",
    "    #print(image.shape)\n",
    "    \n",
    "    # 分割した画像を内包表記でリスト化\n",
    "    c = [image[x0*x:x0*(x+1), y0*y:y0*(y+1)] for x in range(n) for y in range(n)]\n",
    "\n",
    "    # c のリストから1つづつ取り出して\n",
    "    # ファイル番号（0.jpg、1.jpg、・・）を付けて、sepaフォルダに保存\n",
    "    for i, img in enumerate(c):\n",
    "        #print(img.shape)\n",
    "        #print(os.path.join('./test_photo/sepa', '{}.png'.format(i)))\n",
    "        cv2.imwrite(os.path.join('./' + filename + \"/\", '{}.png'.format(i)), img)"
   ]
  },
  {
   "cell_type": "code",
   "execution_count": 2,
   "id": "06e75dae",
   "metadata": {},
   "outputs": [
    {
     "name": "stdout",
     "output_type": "stream",
     "text": [
      "dataset_valid_miru/CTX_day7.jpg\n",
      "dataset_valid_miru/CTX_day11.jpg\n",
      "dataset_valid_miru/CTX_day3.jpg\n",
      "dataset_valid_miru/CTX_day5.jpg\n",
      "dataset_valid_miru/CTX_day14.jpg\n",
      "dataset_valid_miru/CTX_day0.jpg\n"
     ]
    }
   ],
   "source": [
    "import glob\n",
    "from PIL import Image\n",
    "\n",
    "folder = \"dataset_valid_miru\"\n",
    "files = glob.glob(folder + \"/*.jpg\")\n",
    "for file in files:\n",
    "    print(file)\n",
    "    cut_png(file)\n",
    "    "
   ]
  },
  {
   "cell_type": "code",
   "execution_count": null,
   "id": "b7476f32",
   "metadata": {},
   "outputs": [],
   "source": []
  }
 ],
 "metadata": {
  "kernelspec": {
   "display_name": "Python 3 (ipykernel)",
   "language": "python",
   "name": "python3"
  },
  "language_info": {
   "codemirror_mode": {
    "name": "ipython",
    "version": 3
   },
   "file_extension": ".py",
   "mimetype": "text/x-python",
   "name": "python",
   "nbconvert_exporter": "python",
   "pygments_lexer": "ipython3",
   "version": "3.9.7"
  }
 },
 "nbformat": 4,
 "nbformat_minor": 5
}
