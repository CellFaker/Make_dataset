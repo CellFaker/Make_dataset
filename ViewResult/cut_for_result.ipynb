{
 "cells": [
  {
   "cell_type": "code",
   "execution_count": 9,
   "id": "4ef2647e",
   "metadata": {},
   "outputs": [],
   "source": [
    "from glob import glob\n",
    "import cv2\n",
    "\n",
    "files = glob(\"3day/*.jpg\")\n",
    "for img_path in files:\n",
    "    img = cv2.imread(img_path)\n",
    "    img1 = img[ 76: 495,86 : 504]\n",
    "    cv2.imwrite(\"./\"+img_path, img1)"
   ]
  },
  {
   "cell_type": "code",
   "execution_count": null,
   "id": "c13b19db",
   "metadata": {},
   "outputs": [],
   "source": []
  }
 ],
 "metadata": {
  "kernelspec": {
   "display_name": "Python 3 (ipykernel)",
   "language": "python",
   "name": "python3"
  },
  "language_info": {
   "codemirror_mode": {
    "name": "ipython",
    "version": 3
   },
   "file_extension": ".py",
   "mimetype": "text/x-python",
   "name": "python",
   "nbconvert_exporter": "python",
   "pygments_lexer": "ipython3",
   "version": "3.9.7"
  }
 },
 "nbformat": 4,
 "nbformat_minor": 5
}
