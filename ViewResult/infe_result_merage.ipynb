{
 "cells": [
  {
   "cell_type": "code",
   "execution_count": 8,
   "id": "830543e2",
   "metadata": {},
   "outputs": [
    {
     "data": {
      "text/plain": [
       "True"
      ]
     },
     "execution_count": 8,
     "metadata": {},
     "output_type": "execute_result"
    }
   ],
   "source": [
    "# 画像結合  comb.py\n",
    "import cv2\n",
    "import glob\n",
    "import numpy as np\n",
    "from PIL import Image\n",
    "from natsort import natsorted\n",
    "\n",
    "# 所定のフォルダ内にある jpg ファイルを連続で読み込んでリスト化する\n",
    "files = glob.glob(\"./3day\" + \"/*.jpg\")\n",
    "\n",
    "# 空のリストを準備\n",
    "d = []\n",
    "\n",
    "# natsortedで自然順（ファイル番号の小さい順）に1個づつ読み込む\n",
    "for i in natsorted(files):\n",
    "    img = Image.open(i)    # img は'JpegImageFile' object\n",
    "    img = np.asarray(img)  # np.asarrayで img を ndarray に変換\n",
    "    d.append(img)          # d にappend で img を追加\n",
    "\n",
    "# 画像の高さ方向と幅方向を結合\n",
    "img_x = np.vstack((np.hstack(d[0:6]),\n",
    "                   np.hstack(d[6:12]),\n",
    "                   np.hstack(d[12:18]),\n",
    "                   np.hstack(d[18:24]),\n",
    "                   np.hstack(d[24:30]),\n",
    "                   np.hstack(d[30:36])\n",
    "                  ))\n",
    "\n",
    "# 色をBGR から RGB に変更\n",
    "img_x = cv2.cvtColor(img_x, cv2.COLOR_BGR2RGB)\n",
    "#cv2.imshow('img_after', img_x)\n",
    "cv2.imwrite('./result3.jpg', img_x)\n",
    "\n"
   ]
  },
  {
   "cell_type": "code",
   "execution_count": null,
   "id": "e9b18f9e",
   "metadata": {},
   "outputs": [],
   "source": []
  }
 ],
 "metadata": {
  "kernelspec": {
   "display_name": "Python 3 (ipykernel)",
   "language": "python",
   "name": "python3"
  },
  "language_info": {
   "codemirror_mode": {
    "name": "ipython",
    "version": 3
   },
   "file_extension": ".py",
   "mimetype": "text/x-python",
   "name": "python",
   "nbconvert_exporter": "python",
   "pygments_lexer": "ipython3",
   "version": "3.9.7"
  }
 },
 "nbformat": 4,
 "nbformat_minor": 5
}
