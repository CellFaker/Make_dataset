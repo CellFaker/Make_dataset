{
 "cells": [
  {
   "cell_type": "code",
   "execution_count": 6,
   "id": "4e5244be",
   "metadata": {},
   "outputs": [
    {
     "name": "stdout",
     "output_type": "stream",
     "text": [
      "image/11CTX day0.png\n",
      "image/32CTX day11.png\n",
      "image/31CTX day14.png\n",
      "image/35CTX day5.png\n",
      "image/32CTX day7.png\n",
      "image/4CTX day5.png\n",
      "image/0CTX day11.png\n",
      "image/24CTX day7.png\n",
      "image/13CTX day11.png\n",
      "image/35CTX day11.png\n",
      "image/11CTX day5.png\n",
      "image/24CTX day11.png\n",
      "image/33CTX day11.png\n",
      "image/1CTX day5.png\n",
      "image/12CTX day11.png\n",
      "image/6CTX day11.png\n",
      "image/31CTX day7.png\n",
      "image/4CTX day0.png\n",
      "image/7CTX day11.png\n",
      "image/25CTX day7.png\n",
      "image/34CTX day11.png\n",
      "image/2CTX day5.png\n"
     ]
    }
   ],
   "source": [
    "import glob\n",
    "import os\n",
    "files = glob.glob(\"image/*.png\")\n",
    "\n",
    "for file in files:\n",
    "    img_file_name = os.path.basename(file)\n",
    "    mask_path = os.path.join(\"mask\", img_file_name)\n",
    "    if os.path.isfile(mask_path)==False:\n",
    "        os.remove(file)"
   ]
  },
  {
   "cell_type": "code",
   "execution_count": null,
   "id": "ef9859a4",
   "metadata": {},
   "outputs": [],
   "source": []
  }
 ],
 "metadata": {
  "kernelspec": {
   "display_name": "Python 3 (ipykernel)",
   "language": "python",
   "name": "python3"
  },
  "language_info": {
   "codemirror_mode": {
    "name": "ipython",
    "version": 3
   },
   "file_extension": ".py",
   "mimetype": "text/x-python",
   "name": "python",
   "nbconvert_exporter": "python",
   "pygments_lexer": "ipython3",
   "version": "3.9.7"
  }
 },
 "nbformat": 4,
 "nbformat_minor": 5
}
