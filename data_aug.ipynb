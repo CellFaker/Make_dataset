{
 "cells": [
  {
   "cell_type": "code",
   "execution_count": 5,
   "metadata": {},
   "outputs": [],
   "source": [
    "#Yu Yamaoka\n",
    "#path_sumで指定したフォルダ名内の画像全てを回転させることでデータの水増しを行う．\n",
    "\n",
    "#class Path\n",
    "path_sum = [\"0day\",\"3day\",\"5day\",\"7day\",\"14day\"]\n",
    "\n",
    "#Function Defein\n",
    "from tqdm import tqdm\n",
    "import os\n",
    "import cv2\n",
    "import glob\n",
    "\n",
    "def rot(dataset_path):\n",
    "    for i in range(len(path_sum)):\n",
    "        path = os.path.join(dataset_path, path_sum[i])\n",
    "        files = glob.glob(path+\"/*.jpg\")\n",
    "        files = sorted(files)\n",
    "\n",
    "        #rotation\n",
    "        for file in tqdm(files):\n",
    "            imageName = os.path.basename(file)\n",
    "            img_path = os.path.join(path, imageName)\n",
    "            img = cv2.imread(img_path)\n",
    "\n",
    "            img_90 = cv2.rotate(img,cv2.ROTATE_90_CLOCKWISE)\n",
    "            cv2.imwrite(img_path.replace(\".jpg\",\"\")+\"_90.jpg\",img_90)\n",
    "\n",
    "            img_180 = cv2.rotate(img,cv2.ROTATE_180)\n",
    "            cv2.imwrite(img_path.replace(\".jpg\",\"\")+\"_180.jpg\",img_180)\n",
    "\n",
    "            img_270 = cv2.rotate(img,cv2.ROTATE_90_COUNTERCLOCKWISE)\n",
    "            cv2.imwrite(img_path.replace(\".jpg\",\"\")+\"_270.jpg\",img_270)\n",
    "\n",
    "def mirror(dataset_path):\n",
    "    for i in range(len(path_sum)):\n",
    "        path = os.path.join(dataset_path, path_sum[i])\n",
    "        files = glob.glob(path+\"/*.jpg\")\n",
    "        files = sorted(files)\n",
    "\n",
    "        #rotation\n",
    "        for file in tqdm(files):\n",
    "            imageName = os.path.basename(file)\n",
    "            img_path = os.path.join(path, imageName)\n",
    "            img = cv2.imread(img_path)\n",
    "\n",
    "            mirror_img = cv2.flip(img, 1)\n",
    "            cv2.imwrite(img_path.replace(\".jpg\",\"\") + \"_mirror.jpg\", mirror_img)"
   ]
  },
  {
   "cell_type": "code",
   "execution_count": 6,
   "metadata": {},
   "outputs": [
    {
     "name": "stderr",
     "output_type": "stream",
     "text": [
      "100%|██████████| 139/139 [00:02<00:00, 66.59it/s]\n",
      "100%|██████████| 160/160 [00:02<00:00, 65.91it/s]\n",
      "100%|██████████| 170/170 [00:02<00:00, 63.27it/s]\n",
      "100%|██████████| 166/166 [00:02<00:00, 68.36it/s]\n",
      "100%|██████████| 80/80 [00:01<00:00, 70.90it/s]\n",
      "100%|██████████| 556/556 [00:03<00:00, 144.93it/s]\n",
      "100%|██████████| 640/640 [00:04<00:00, 145.58it/s]\n",
      "100%|██████████| 680/680 [00:04<00:00, 145.41it/s]\n",
      "100%|██████████| 664/664 [00:04<00:00, 145.01it/s]\n",
      "100%|██████████| 320/320 [00:02<00:00, 151.63it/s]\n"
     ]
    }
   ],
   "source": [
    "rot(\"./\")\n",
    "mirror(\"./\")"
   ]
  },
  {
   "cell_type": "code",
   "execution_count": null,
   "metadata": {},
   "outputs": [],
   "source": []
  }
 ],
 "metadata": {
  "interpreter": {
   "hash": "85aab78b62a0b0b7bea0a736b87cc2157e17da06611f44e6d8d7fe8688685325"
  },
  "kernelspec": {
   "display_name": "Python 3.7.13 ('cell': conda)",
   "language": "python",
   "name": "python3"
  },
  "language_info": {
   "codemirror_mode": {
    "name": "ipython",
    "version": 3
   },
   "file_extension": ".py",
   "mimetype": "text/x-python",
   "name": "python",
   "nbconvert_exporter": "python",
   "pygments_lexer": "ipython3",
   "version": "3.7.13"
  },
  "orig_nbformat": 4
 },
 "nbformat": 4,
 "nbformat_minor": 2
}
