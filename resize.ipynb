{
 "cells": [
  {
   "cell_type": "code",
   "execution_count": 2,
   "metadata": {},
   "outputs": [],
   "source": [
    "img_path = \"CTX_day0_mask.jpg\"\n",
    "w, h = 3210, 3904\n",
    "\n",
    "\n",
    "from PIL import Image\n",
    "img = Image.open(img_path)\n",
    "\n",
    "bic = Image.BICUBIC\n",
    "img_resize = img.resize(size=(w, h))\n",
    "img_resize.save(img_path)"
   ]
  },
  {
   "cell_type": "code",
   "execution_count": null,
   "metadata": {},
   "outputs": [],
   "source": [
    "#imageフォルダの画像サイズにmaskフォルダの画像のサイズを変更する。\n",
    "from glob import glob\n",
    "import os\n",
    "files = glob(\"./image/*.jpg\")\n",
    "for file in files:\n",
    "    img = Image.open(file)\n",
    "    filename = os.path.basename(file)\n",
    "    \n",
    "    mask_file_path = os.path.join(\"./mask\", filename)\n",
    "    mask_img = Image.open(mask_file_path)\n",
    "    mask_img = mask_img.resize(size = (img.width, img.height))\n",
    "    mask_img.save(mask_file_path)"
   ]
  }
 ],
 "metadata": {
  "interpreter": {
   "hash": "85aab78b62a0b0b7bea0a736b87cc2157e17da06611f44e6d8d7fe8688685325"
  },
  "kernelspec": {
   "display_name": "Python 3.7.13 ('cell': conda)",
   "language": "python",
   "name": "python3"
  },
  "language_info": {
   "codemirror_mode": {
    "name": "ipython",
    "version": 3
   },
   "file_extension": ".py",
   "mimetype": "text/x-python",
   "name": "python",
   "nbconvert_exporter": "python",
   "pygments_lexer": "ipython3",
   "version": "3.9.7"
  },
  "orig_nbformat": 4
 },
 "nbformat": 4,
 "nbformat_minor": 2
}
