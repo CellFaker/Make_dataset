{
 "cells": [
  {
   "cell_type": "code",
   "execution_count": 5,
   "id": "76a4dfe1",
   "metadata": {},
   "outputs": [
    {
     "name": "stdout",
     "output_type": "stream",
     "text": [
      "['./image/CTX day3.png', './image/CTX day5.png', './image/CTX day7.png', './image/CTX day14.png', './image/CTX day0.png', './image/CTX day11.png']\n",
      "3209\n",
      "./image/CTX day3.png\n",
      "3281\n",
      "./image/CTX day5.png\n",
      "4086\n",
      "./image/CTX day7.png\n",
      "4089\n",
      "./image/CTX day14.png\n",
      "3210\n",
      "./image/CTX day0.png\n",
      "4355\n",
      "./image/CTX day11.png\n"
     ]
    }
   ],
   "source": [
    "#imageフォルダの画像サイズにmaskフォルダの画像のサイズを変更する。\n",
    "import cv2\n",
    "from glob import glob\n",
    "import os\n",
    "files = glob(\"./image/*.png\")\n",
    "print(files)\n",
    "\n",
    "for file in files:\n",
    "    img = cv2.imread(file)\n",
    "    filename = os.path.basename(file)\n",
    "    \n",
    "    mask_file_path = os.path.join(\"./mask\", filename)\n",
    "    mask_img = cv2.imread(mask_file_path)\n",
    "    height, width = img.shape[:2]\n",
    "    print(width)\n",
    "    print(file)\n",
    "    mask_img_re = cv2.resize(mask_img, dsize=(width, height),interpolation = cv2.INTER_NEAREST)\n",
    "    cv2.imwrite(mask_file_path, mask_img_re)"
   ]
  },
  {
   "cell_type": "code",
   "execution_count": null,
   "id": "b5fb0394",
   "metadata": {},
   "outputs": [],
   "source": []
  }
 ],
 "metadata": {
  "kernelspec": {
   "display_name": "Python 3 (ipykernel)",
   "language": "python",
   "name": "python3"
  },
  "language_info": {
   "codemirror_mode": {
    "name": "ipython",
    "version": 3
   },
   "file_extension": ".py",
   "mimetype": "text/x-python",
   "name": "python",
   "nbconvert_exporter": "python",
   "pygments_lexer": "ipython3",
   "version": "3.9.7"
  }
 },
 "nbformat": 4,
 "nbformat_minor": 5
}
