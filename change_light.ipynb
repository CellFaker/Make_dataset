{
 "cells": [
  {
   "cell_type": "code",
   "execution_count": 63,
   "id": "d10d8bc3",
   "metadata": {},
   "outputs": [],
   "source": [
    "from PIL import Image\n",
    "import os\n",
    "import cv2\n",
    "import numpy as np\n",
    "\n",
    "\n",
    "#明るさ変調\n",
    "def adjust(img_path, alpha=1.0, beta=0.0):\n",
    "    \"\"\"\n",
    "    alpha : contrast\n",
    "    beta : light\n",
    "    \"\"\"\n",
    "    # 積和演算を行う。\n",
    "    img = cv2.imread(img_path) \n",
    "    dst = alpha * img + beta\n",
    "    # [0, 255] でクリップし、uint8 型にする。\n",
    "    return np.clip(dst, 0, 255).astype(np.uint8)\n",
    "\n",
    "def light_change(img_path):\n",
    "    dst = adjust(img_path, alpha=2, beta=40.0)\n",
    "    cv2.imwrite(img_path + \"_change.jpg\", dst)\n",
    "    \n",
    "def rot_color(img_path):\n",
    "    s_magnification = 1.3 # 彩度(Saturation)の倍率\n",
    "    v_magnification = 1  # 明度(Value)の倍率\n",
    "    \n",
    "    #色味調整\n",
    "    img = cv2.imread(img_path)\n",
    "    img[:, :, 2] = img[:, :, 2]\n",
    "    \n",
    "    #彩度・明度変更\n",
    "    hsv = cv2.cvtColor(img, cv2.COLOR_BGR2HSV)\n",
    "    hsv[:, :, 1] = hsv[:, :, 1]*s_magnification\n",
    "    hsv[:, :, 2] = hsv[:, :, 2]*v_magnification\n",
    "    #hsv[:, :, 0] = np.where((hsv[:, :, 0]>145)&(hsv[:, :, 0]<165), hsv[:, :, 0]+15, hsv[:, :, 0])\n",
    "    \n",
    "    bgr = cv2.cvtColor(hsv, cv2.COLOR_HSV2BGR)\n",
    "    cv2.imwrite(img_path + \"color_change.jpg\", bgr)"
   ]
  },
  {
   "cell_type": "code",
   "execution_count": 64,
   "id": "28c3f926",
   "metadata": {},
   "outputs": [],
   "source": [
    "\n",
    "light_change(\"No3(L) ctx3day.tif.jpg\")\n",
    "rot_color(\"No3(L) ctx3day.tif.jpg_change.jpg\")"
   ]
  },
  {
   "cell_type": "code",
   "execution_count": null,
   "id": "95848f1a",
   "metadata": {},
   "outputs": [],
   "source": []
  }
 ],
 "metadata": {
  "kernelspec": {
   "display_name": "Python 3 (ipykernel)",
   "language": "python",
   "name": "python3"
  },
  "language_info": {
   "codemirror_mode": {
    "name": "ipython",
    "version": 3
   },
   "file_extension": ".py",
   "mimetype": "text/x-python",
   "name": "python",
   "nbconvert_exporter": "python",
   "pygments_lexer": "ipython3",
   "version": "3.9.7"
  }
 },
 "nbformat": 4,
 "nbformat_minor": 5
}
