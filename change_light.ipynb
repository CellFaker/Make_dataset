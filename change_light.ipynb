{
 "cells": [
  {
   "cell_type": "code",
   "execution_count": 2,
   "id": "6ca9d824",
   "metadata": {},
   "outputs": [],
   "source": [
    "\n",
    "\n",
    "from PIL import Image\n",
    "import os\n",
    "import cv2\n",
    "import numpy as np\n",
    "\n",
    "\n",
    "#明るさ変調\n",
    "def adjust(img_path, alpha=1.0, beta=0.0):\n",
    "    \"\"\"\n",
    "    alpha : contrast\n",
    "    beta : light\n",
    "    \"\"\"\n",
    "    # 積和演算を行う。\n",
    "    img = cv2.imread(img_path) \n",
    "    dst = alpha * img + beta\n",
    "    # [0, 255] でクリップし、uint8 型にする。\n",
    "    return np.clip(dst, 0, 255).astype(np.uint8)\n",
    "\n",
    "def light_change(img_path):\n",
    "    dst = adjust(img_path, alpha=1.7 ,beta=60.0)\n",
    "    cv2.imwrite(img_path + \"_change.jpg\", dst)\n",
    "    \n",
    "def rot_color(img_path):\n",
    "    s_magnification = 1.3 # 彩度(Saturation)の倍率\n",
    "    v_magnification = 1  # 明度(Value)の倍率\n",
    "    \n",
    "    #色味調整\n",
    "    img = cv2.imread(img_path)\n",
    "    img[:, :, 2] = img[:, :, 2]\n",
    "    \n",
    "    #彩度・明度変更\n",
    "    hsv = cv2.cvtColor(img, cv2.COLOR_BGR2HSV)\n",
    "    hsv[:, :, 1] = hsv[:, :, 1]*s_magnification\n",
    "    hsv[:, :, 2] = hsv[:, :, 2]*v_magnification\n",
    "    #hsv[:, :, 0] = np.where((hsv[:, :, 0]>145)&(hsv[:, :, 0]<165), hsv[:, :, 0]+15, hsv[:, :, 0])\n",
    "    \n",
    "    bgr = cv2.cvtColor(hsv, cv2.COLOR_HSV2BGR)\n",
    "    cv2.imwrite(img_path + \"color_change.png\", bgr)\n",
    "\n",
    "\n",
    "\n",
    " \n",
    "\n",
    " \n",
    "\n",
    " \n",
    "\n"
   ]
  },
  {
   "cell_type": "code",
   "execution_count": 3,
   "id": "73164cf7",
   "metadata": {},
   "outputs": [
    {
     "name": "stderr",
     "output_type": "stream",
     "text": [
      "[ WARN:0@26.933] global /io/opencv/modules/imgcodecs/src/loadsave.cpp (239) findDecoder imread_('image/CTX day11.png_change.png'): can't open/read file: check file path/integrity\n"
     ]
    },
    {
     "ename": "TypeError",
     "evalue": "'NoneType' object is not subscriptable",
     "output_type": "error",
     "traceback": [
      "\u001b[0;31m---------------------------------------------------------------------------\u001b[0m",
      "\u001b[0;31mTypeError\u001b[0m                                 Traceback (most recent call last)",
      "\u001b[0;32m/tmp/ipykernel_388548/3992304178.py\u001b[0m in \u001b[0;36m<module>\u001b[0;34m\u001b[0m\n\u001b[1;32m      2\u001b[0m \u001b[0;34m\u001b[0m\u001b[0m\n\u001b[1;32m      3\u001b[0m \u001b[0mlight_change\u001b[0m\u001b[0;34m(\u001b[0m\u001b[0mpath\u001b[0m\u001b[0;34m)\u001b[0m\u001b[0;34m\u001b[0m\u001b[0;34m\u001b[0m\u001b[0m\n\u001b[0;32m----> 4\u001b[0;31m \u001b[0mrot_color\u001b[0m\u001b[0;34m(\u001b[0m\u001b[0mpath\u001b[0m \u001b[0;34m+\u001b[0m \u001b[0;34m\"_change.png\"\u001b[0m\u001b[0;34m)\u001b[0m\u001b[0;34m\u001b[0m\u001b[0;34m\u001b[0m\u001b[0m\n\u001b[0m",
      "\u001b[0;32m/tmp/ipykernel_388548/3347358383.py\u001b[0m in \u001b[0;36mrot_color\u001b[0;34m(img_path)\u001b[0m\n\u001b[1;32m     27\u001b[0m     \u001b[0;31m#色味調整\u001b[0m\u001b[0;34m\u001b[0m\u001b[0;34m\u001b[0m\u001b[0m\n\u001b[1;32m     28\u001b[0m     \u001b[0mimg\u001b[0m \u001b[0;34m=\u001b[0m \u001b[0mcv2\u001b[0m\u001b[0;34m.\u001b[0m\u001b[0mimread\u001b[0m\u001b[0;34m(\u001b[0m\u001b[0mimg_path\u001b[0m\u001b[0;34m)\u001b[0m\u001b[0;34m\u001b[0m\u001b[0;34m\u001b[0m\u001b[0m\n\u001b[0;32m---> 29\u001b[0;31m     \u001b[0mimg\u001b[0m\u001b[0;34m[\u001b[0m\u001b[0;34m:\u001b[0m\u001b[0;34m,\u001b[0m \u001b[0;34m:\u001b[0m\u001b[0;34m,\u001b[0m \u001b[0;36m2\u001b[0m\u001b[0;34m]\u001b[0m \u001b[0;34m=\u001b[0m \u001b[0mimg\u001b[0m\u001b[0;34m[\u001b[0m\u001b[0;34m:\u001b[0m\u001b[0;34m,\u001b[0m \u001b[0;34m:\u001b[0m\u001b[0;34m,\u001b[0m \u001b[0;36m2\u001b[0m\u001b[0;34m]\u001b[0m\u001b[0;34m\u001b[0m\u001b[0;34m\u001b[0m\u001b[0m\n\u001b[0m\u001b[1;32m     30\u001b[0m \u001b[0;34m\u001b[0m\u001b[0m\n\u001b[1;32m     31\u001b[0m     \u001b[0;31m#彩度・明度変更\u001b[0m\u001b[0;34m\u001b[0m\u001b[0;34m\u001b[0m\u001b[0m\n",
      "\u001b[0;31mTypeError\u001b[0m: 'NoneType' object is not subscriptable"
     ]
    }
   ],
   "source": [
    "path = \"image/CTX day11.png\"\n",
    "\n",
    "light_change(path)\n",
    "rot_color(path + \"_change.png\")"
   ]
  },
  {
   "cell_type": "code",
   "execution_count": null,
   "id": "4e9e6bd2",
   "metadata": {},
   "outputs": [],
   "source": []
  }
 ],
 "metadata": {
  "kernelspec": {
   "display_name": "Python 3 (ipykernel)",
   "language": "python",
   "name": "python3"
  },
  "language_info": {
   "codemirror_mode": {
    "name": "ipython",
    "version": 3
   },
   "file_extension": ".py",
   "mimetype": "text/x-python",
   "name": "python",
   "nbconvert_exporter": "python",
   "pygments_lexer": "ipython3",
   "version": "3.9.7"
  }
 },
 "nbformat": 4,
 "nbformat_minor": 5
}
