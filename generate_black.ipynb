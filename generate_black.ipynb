{
 "cells": [
  {
   "cell_type": "code",
   "execution_count": 18,
   "id": "06f37449",
   "metadata": {},
   "outputs": [],
   "source": [
    "import glob\n",
    "from PIL import Image\n",
    "import os\n",
    "import cv2\n",
    "\n",
    "files = glob.glob(\"image/*.jpg\")\n",
    "for file in files:\n",
    "    img = cv2.imread(file)\n",
    "    img[:,:,:] = 0\n",
    "    filename = os.path.basename(file)\n",
    "    \n",
    "    #print(filename)\n",
    "    #print(img.shape)\n",
    "    cv2.imwrite(\"./\"+filename, img)"
   ]
  },
  {
   "cell_type": "code",
   "execution_count": null,
   "id": "3b97c945",
   "metadata": {},
   "outputs": [],
   "source": []
  }
 ],
 "metadata": {
  "kernelspec": {
   "display_name": "Python 3 (ipykernel)",
   "language": "python",
   "name": "python3"
  },
  "language_info": {
   "codemirror_mode": {
    "name": "ipython",
    "version": 3
   },
   "file_extension": ".py",
   "mimetype": "text/x-python",
   "name": "python",
   "nbconvert_exporter": "python",
   "pygments_lexer": "ipython3",
   "version": "3.9.7"
  }
 },
 "nbformat": 4,
 "nbformat_minor": 5
}
