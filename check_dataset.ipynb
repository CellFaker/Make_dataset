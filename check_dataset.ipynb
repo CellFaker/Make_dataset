{
 "cells": [
  {
   "cell_type": "code",
   "execution_count": 8,
   "id": "7d4897f0",
   "metadata": {},
   "outputs": [],
   "source": [
    "##YuYamaoka\n",
    "##Rankエラー対策。真っ黒なマスクしかない画像を削除する。\n",
    "##データセットにアクセスして、マスク画像からオブジェクトのない画像を見つけて削除する。\n",
    "\n",
    "#path define\n",
    "path_sum = [\"mask\"]\n",
    "path_sum2 = [\"mask\",\"image\"]\n",
    "\n",
    "#Parameter Define\n",
    "model_type = 'cyto'\n",
    "chan = [0,0]#\n",
    "\n",
    "import os\n",
    "from tqdm import tqdm\n",
    "import glob\n",
    "import cv2\n",
    "import numpy as np\n",
    "import copy\n",
    "from cellpose import models, io\n",
    "\n",
    "#function define\n",
    "def blob_detection(mask,class_id: int):\n",
    "    \"\"\"\n",
    "        opencvのブロブ検出関数の戻り値が微妙に変わってる気がするのでダウングレード推奨\n",
    "        最新はcv2.__version == 4.5.1なので pip install -U opencv-python==3.4.13\n",
    "\n",
    "        N個の物体が入っている一枚の二値画像(height, width, 1)から,\n",
    "        opencvのブロブ検出関数を利用して (height, widht, N)のNチャネル画像を生成する\n",
    "        各チャネルが１つの物体のマスク情報となっている\n",
    "\n",
    "        cls_idxsは各チャネルのマスク情報が示す物体のクラスidのリストとなっている\n",
    "        ※もとのブログではすべての物体がcell(id=1)だったのでcls_idxsはnp.ones(N)でよかった\n",
    "    \"\"\"\n",
    "    data = mask\n",
    "    labels = []\n",
    "    for label in np.unique(data):\n",
    "        #: ラベルID==0は背景\n",
    "        if label == 0:\n",
    "            continue\n",
    "        else:\n",
    "            labels.append(label)\n",
    "\n",
    "    if len(labels) == 0:\n",
    "        #: 対象オブジェクトがない場合はNone\n",
    "        #print(mask_path + \"label is None!\")\n",
    "        return None, None\n",
    "    else:\n",
    "        mask = np.zeros((mask.shape)+(len(labels),), dtype=np.uint8)\n",
    "        for n, label in enumerate(labels):\n",
    "            mask[:, :, n] = np.uint8(data == label)\n",
    "        cls_idxs = np.ones([mask.shape[-1]], dtype=np.int32) * class_id\n",
    "\n",
    "        return mask, cls_idxs\n",
    "\n",
    "def check_dataset(folder_path):\n",
    "    files = glob.glob(folder_path + \"/image/*.png\")\n",
    "\n",
    "    for img_path in tqdm(files):\n",
    "        mask_exist = False\n",
    "        for i in range(len(path_sum)):\n",
    "            file_name = os.path.basename(img_path)\n",
    "            mask_path = os.path.join(folder_path,path_sum[i],file_name)\n",
    "            mask_id = i\n",
    "            mask = img_to_cellpose(img_path)\n",
    "            mask,class_id = blob_detection(mask,mask_id)\n",
    "            if class_id is not None:\n",
    "                mask_exist = True\n",
    "\n",
    "\n",
    "        #全てのマスク画像にオブジェクトが確認されなかった場合、そのファイルを削除\n",
    "        if(mask_exist == False):\n",
    "            print(img_path)\n",
    "            print(\"***********************\")\n",
    "            for j in range(len(path_sum2)):\n",
    "                os.remove(os.path.join(folder_path,path_sum2[j],file_name))\n",
    "                \n",
    "def img_to_cellpose(img_path):\n",
    "    \"\"\"\n",
    "    Input:\n",
    "        img_path : (string) Image file PATH\n",
    "    Return:\n",
    "        saved inference data at file PATH.\n",
    "    \"\"\"\n",
    "    model = models.Cellpose(gpu=False, model_type=model_type)\n",
    "    img = io.imread(img_path)\n",
    "    mask, flows, styles, diams = model.eval(img, diameter=None, channels=chan)\n",
    "\n",
    "    # save results so you can load in gui\n",
    "    #io.masks_flows_to_seg(img, masks, flows, diams, img_path, chan)\n",
    "\n",
    "    #save results as png\n",
    "    #plt.imsave(\"test.png\",masks)\n",
    "\n",
    "    return mask\n"
   ]
  },
  {
   "cell_type": "code",
   "execution_count": null,
   "id": "28240a87",
   "metadata": {},
   "outputs": [
    {
     "name": "stderr",
     "output_type": "stream",
     "text": [
      "  5%|█▉                                        | 10/216 [00:40<13:25,  3.91s/it]/home/w-sugimr/anaconda3/lib/python3.9/site-packages/numpy/core/fromnumeric.py:3419: RuntimeWarning: Mean of empty slice.\n",
      "  return _methods._mean(a, axis=axis, dtype=dtype,\n",
      "/home/w-sugimr/anaconda3/lib/python3.9/site-packages/numpy/core/_methods.py:188: RuntimeWarning: invalid value encountered in double_scalars\n",
      "  ret = ret.dtype.type(ret / rcount)\n",
      "  5%|██▏                                       | 11/216 [00:43<12:12,  3.57s/it]"
     ]
    },
    {
     "name": "stdout",
     "output_type": "stream",
     "text": [
      ".//image/32CTX day14.png\n",
      "***********************\n"
     ]
    },
    {
     "name": "stderr",
     "output_type": "stream",
     "text": [
      "  7%|███                                       | 16/216 [01:02<11:36,  3.48s/it]"
     ]
    },
    {
     "name": "stdout",
     "output_type": "stream",
     "text": [
      ".//image/0CTX day14.png\n",
      "***********************\n"
     ]
    },
    {
     "name": "stderr",
     "output_type": "stream",
     "text": [
      "\r",
      "  8%|███▎                                      | 17/216 [01:07<13:06,  3.95s/it]"
     ]
    }
   ],
   "source": [
    "\n",
    "\n",
    "#main\n",
    "check_dataset(\"./\")\n",
    "\n"
   ]
  },
  {
   "cell_type": "code",
   "execution_count": null,
   "id": "5985ad9e",
   "metadata": {},
   "outputs": [],
   "source": []
  }
 ],
 "metadata": {
  "kernelspec": {
   "display_name": "Python 3 (ipykernel)",
   "language": "python",
   "name": "python3"
  },
  "language_info": {
   "codemirror_mode": {
    "name": "ipython",
    "version": 3
   },
   "file_extension": ".py",
   "mimetype": "text/x-python",
   "name": "python",
   "nbconvert_exporter": "python",
   "pygments_lexer": "ipython3",
   "version": "3.9.7"
  }
 },
 "nbformat": 4,
 "nbformat_minor": 5
}
