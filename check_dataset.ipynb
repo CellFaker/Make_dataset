{
 "cells": [
  {
   "cell_type": "code",
   "execution_count": 4,
   "id": "44abb5ce",
   "metadata": {},
   "outputs": [
    {
     "ename": "IndentationError",
     "evalue": "expected an indented block (1274715525.py, line 85)",
     "output_type": "error",
     "traceback": [
      "\u001b[0;36m  File \u001b[0;32m\"/tmp/ipykernel_356377/1274715525.py\"\u001b[0;36m, line \u001b[0;32m85\u001b[0m\n\u001b[0;31m    def img_to_cellpose(img_path):\u001b[0m\n\u001b[0m                                  ^\u001b[0m\n\u001b[0;31mIndentationError\u001b[0m\u001b[0;31m:\u001b[0m expected an indented block\n"
     ]
    }
   ],
   "source": [
    "##YuYamaoka\n",
    "##Rankエラー対策。真っ黒なマスクしかない画像を削除する。\n",
    "##データセットにアクセスして、マスク画像からオブジェクトのない画像を見つけて削除する。\n",
    "\n",
    "#path define\n",
    "path_sum = [\"mask\"]\n",
    "path_sum2 = [\"mask\",\"image\"]\n",
    "\n",
    "#Parameter Define\n",
    "model_type = 'cyto'\n",
    "chan = [0,0]#\n",
    "\n",
    "import os\n",
    "from tqdm import tqdm\n",
    "import glob\n",
    "import cv2\n",
    "import numpy as np\n",
    "import copy\n",
    "import cellpose\n",
    "\n",
    "#function define\n",
    "def blob_detection(mask_path,class_id: int):\n",
    "    \"\"\"\n",
    "        opencvのブロブ検出関数の戻り値が微妙に変わってる気がするのでダウングレード推奨\n",
    "        最新はcv2.__version == 4.5.1なので pip install -U opencv-python==3.4.13\n",
    "\n",
    "        N個の物体が入っている一枚の二値画像(height, width, 1)から,\n",
    "        opencvのブロブ検出関数を利用して (height, widht, N)のNチャネル画像を生成する\n",
    "        各チャネルが１つの物体のマスク情報となっている\n",
    "\n",
    "        cls_idxsは各チャネルのマスク情報が示す物体のクラスidのリストとなっている\n",
    "        ※もとのブログではすべての物体がcell(id=1)だったのでcls_idxsはnp.ones(N)でよかった\n",
    "    \"\"\"\n",
    "    mask = cv2.imread(mask_path, 0)\n",
    "    _, mask = cv2.threshold(mask, 150, 255, cv2.THRESH_BINARY)\n",
    "\n",
    "    tmp = cv2.connectedComponentsWithStats(mask)\n",
    "    data = copy.deepcopy(tmp[1])\n",
    "\n",
    "    #: 可視化するとブロブ検出関数の意味がよくわかる\n",
    "    #: plt.imshow(data)\n",
    "    #: plt.show()\n",
    "\n",
    "    labels = []\n",
    "    for label in np.unique(data):\n",
    "        #: ラベルID==0は背景\n",
    "        if label == 0:\n",
    "            continue\n",
    "        else:\n",
    "            labels.append(label)\n",
    "\n",
    "    if len(labels) == 0:\n",
    "        #: 対象オブジェクトがない場合はNone\n",
    "        #print(mask_path + \"label is None!\")\n",
    "        return None, None\n",
    "    else:\n",
    "        mask = np.zeros((mask.shape)+(len(labels),), dtype=np.uint8)\n",
    "        for n, label in enumerate(labels):\n",
    "            mask[:, :, n] = np.uint8(data == label)\n",
    "        cls_idxs = np.ones([mask.shape[-1]], dtype=np.int32) * class_id\n",
    "\n",
    "        return mask, cls_idxs\n",
    "\n",
    "def check_dataset(folder_path):\n",
    "    files = glob.glob(folder_path + \"/image/*.png\")\n",
    "\n",
    "    for img_path in tqdm(files):\n",
    "        mask_exist = False\n",
    "        for i in range(len(path_sum)):\n",
    "            file_name = os.path.basename(img_path)\n",
    "            mask_path = os.path.join(folder_path,path_sum[i],file_name)\n",
    "            mask_id = i\n",
    "            mask,class_id = blob_detection(mask_path,mask_id)\n",
    "            if class_id is not None:\n",
    "                mask_exist = True\n",
    "\n",
    "\n",
    "        #全てのマスク画像にオブジェクトが確認されなかった場合、そのファイルを削除\n",
    "        if(mask_exist == False):\n",
    "            print(file)\n",
    "            print(\"***********************\")\n",
    "            for j in range(len(path_sum2)):\n",
    "                os.remove(os.path.join(folder_path,path_sum2[j],file_name))\n",
    "                \n",
    "def img_to_cellpose(img_path):\n",
    "    \"\"\"\n",
    "    Input:\n",
    "        img_path : (string) Image file PATH\n",
    "    Return:\n",
    "        saved inference data at file PATH.\n",
    "    \"\"\"\n",
    "    model = models.Cellpose(gpu=False, model_type=model_type)\n",
    "    img = io.imread(img_path)\n",
    "    mask, flows, styles, diams = model.eval(img, diameter=None, channels=chan)\n",
    "\n",
    "    # save results so you can load in gui\n",
    "    #io.masks_flows_to_seg(img, masks, flows, diams, img_path, chan)\n",
    "\n",
    "    #save results as png\n",
    "    #plt.imsave(\"test.png\",masks)\n",
    "\n",
    "    return mask\n"
   ]
  },
  {
   "cell_type": "code",
   "execution_count": null,
   "id": "375eab1f",
   "metadata": {},
   "outputs": [
    {
     "name": "stderr",
     "output_type": "stream",
     "text": [
      "\r",
      "  0%|                                                   | 0/236 [00:00<?, ?it/s]"
     ]
    }
   ],
   "source": [
    "#main\n",
    "check_dataset(\"./\")"
   ]
  },
  {
   "cell_type": "code",
   "execution_count": null,
   "id": "1675513c",
   "metadata": {},
   "outputs": [],
   "source": []
  }
 ],
 "metadata": {
  "kernelspec": {
   "display_name": "Python 3 (ipykernel)",
   "language": "python",
   "name": "python3"
  },
  "language_info": {
   "codemirror_mode": {
    "name": "ipython",
    "version": 3
   },
   "file_extension": ".py",
   "mimetype": "text/x-python",
   "name": "python",
   "nbconvert_exporter": "python",
   "pygments_lexer": "ipython3",
   "version": "3.9.7"
  }
 },
 "nbformat": 4,
 "nbformat_minor": 5
}
